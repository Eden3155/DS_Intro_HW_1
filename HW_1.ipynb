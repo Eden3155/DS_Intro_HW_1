{
 "cells": [
  {
   "cell_type": "code",
   "execution_count": 4,
   "id": "f865518f",
   "metadata": {},
   "outputs": [
    {
     "name": "stdout",
     "output_type": "stream",
     "text": [
      "0.0\n",
      "40.0\n",
      "Error: parameter should be float\n"
     ]
    }
   ],
   "source": [
    "def my_function(x1, x2, x3):\n",
    "    if type(x1) and type(x2) and type(x3) == float:\n",
    "        if x1 == 0 and x2 == 0 and x3 == 0:\n",
    "            print('Not a number - Denominator equals zero')\n",
    "        else:\n",
    "            value = ((x1+x2+x3)*(x2+x3)*x3)/(x1+x2+x3)\n",
    "            print(value)\n",
    "    else:\n",
    "        print(\"Error: parameter should be float\")\n",
    "\n",
    "my_function(2.0, 3.0, 0.0)\n",
    "my_function(2.0, 3.0, 5.0)\n",
    "my_function(2.0, 3.0, 4)\n",
    "\n",
    "\n",
    "\n",
    "\n",
    "\n",
    "\n",
    "\n",
    "\n"
   ]
  },
  {
   "cell_type": "code",
   "execution_count": 7,
   "id": "5f49a9ac",
   "metadata": {},
   "outputs": [
    {
     "name": "stdout",
     "output_type": "stream",
     "text": [
      "3600\n",
      "14460\n",
      "14400\n"
     ]
    }
   ],
   "source": [
    "def convert(hours, minutes):\n",
    "    if hours >= 0 and minutes >= 0:\n",
    "        value = hours*(60*60) + minutes*60\n",
    "        print(value)\n",
    "    else:\n",
    "        print(\"Input error!\")\n",
    "\n",
    "convert(1, 0)\n",
    "convert(4,1)\n",
    "convert(4,0)\n",
    "\n"
   ]
  },
  {
   "cell_type": "code",
   "execution_count": null,
   "id": "b13dbd7f",
   "metadata": {},
   "outputs": [],
   "source": []
  }
 ],
 "metadata": {
  "kernelspec": {
   "display_name": "Python 3 (ipykernel)",
   "language": "python",
   "name": "python3"
  },
  "language_info": {
   "codemirror_mode": {
    "name": "ipython",
    "version": 3
   },
   "file_extension": ".py",
   "mimetype": "text/x-python",
   "name": "python",
   "nbconvert_exporter": "python",
   "pygments_lexer": "ipython3",
   "version": "3.9.7"
  }
 },
 "nbformat": 4,
 "nbformat_minor": 5
}
